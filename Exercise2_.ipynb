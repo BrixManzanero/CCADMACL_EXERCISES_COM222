{
  "cells": [
    {
      "cell_type": "markdown",
      "metadata": {
        "id": "view-in-github"
      },
      "source": [
        "<a href=\"https://colab.research.google.com/github/robitussin/CCADMACL_EXERCISES/blob/main/Exercise2.ipynb\" target=\"_parent\"><img src=\"https://colab.research.google.com/assets/colab-badge.svg\" alt=\"Open In Colab\"/></a>"
      ]
    },
    {
      "cell_type": "markdown",
      "source": [
        "## Exercise 2: Use Gradient Boost for Regression\n",
        "\n",
        "Instructions:\n",
        "\n",
        "- Use the Dataset File to train your model\n",
        "- Use the Test File to generate your results\n",
        "- Use the Sample Submission file to generate the same format\n",
        "Submit your results to:\n",
        "https://www.kaggle.com/competitions/playground-series-s4e12/overview\n",
        "\n"
      ],
      "metadata": {
        "id": "99_2rPCJrNfK"
      }
    },
    {
      "cell_type": "code",
      "execution_count": null,
      "metadata": {
        "id": "R_se3V8gftVL",
        "colab": {
          "base_uri": "https://localhost:8080/"
        },
        "outputId": "e0f8c11a-fc31-4856-c513-b947f4f640ee"
      },
      "outputs": [
        {
          "output_type": "stream",
          "name": "stdout",
          "text": [
            "Requirement already satisfied: xgboost in /usr/local/lib/python3.10/dist-packages (2.1.2)\n",
            "Requirement already satisfied: numpy in /usr/local/lib/python3.10/dist-packages (from xgboost) (1.26.4)\n",
            "Requirement already satisfied: nvidia-nccl-cu12 in /usr/local/lib/python3.10/dist-packages (from xgboost) (2.23.4)\n",
            "Requirement already satisfied: scipy in /usr/local/lib/python3.10/dist-packages (from xgboost) (1.13.1)\n"
          ]
        }
      ],
      "source": [
        "!pip install --user xgboost"
      ]
    },
    {
      "cell_type": "code",
      "source": [
        "import seaborn as sns\n",
        "import pandas as pd\n",
        "import numpy as np\n",
        "import matplotlib.pyplot as plt\n",
        "import warnings\n",
        "from sklearn.model_selection import train_test_split\n",
        "import xgboost as xgb\n",
        "from sklearn.metrics import root_mean_squared_log_error\n",
        "\n",
        "from sklearn.preprocessing import StandardScaler, OneHotEncoder\n",
        "from sklearn.impute import SimpleImputer\n",
        "warnings.filterwarnings(\"ignore\")"
      ],
      "metadata": {
        "id": "wYcw892n12Di"
      },
      "execution_count": null,
      "outputs": []
    },
    {
      "cell_type": "markdown",
      "metadata": {
        "id": "eCNNEXIhftVN"
      },
      "source": [
        "## Dataset\n",
        "Train, test and sample submission file can be found in this link\n",
        "https://www.kaggle.com/competitions/playground-series-s4e12/data"
      ]
    },
    {
      "cell_type": "markdown",
      "source": [
        "## 1. Load the Data"
      ],
      "metadata": {
        "id": "rjhN8ODcVYxH"
      }
    },
    {
      "cell_type": "code",
      "source": [
        "from google.colab import drive\n",
        "drive.mount('/content/drive')"
      ],
      "metadata": {
        "colab": {
          "base_uri": "https://localhost:8080/"
        },
        "id": "Fk6vZksT16lI",
        "outputId": "8aaa8111-2ff8-4d3a-8fd5-bc4f6162e89d"
      },
      "execution_count": null,
      "outputs": [
        {
          "output_type": "stream",
          "name": "stdout",
          "text": [
            "Drive already mounted at /content/drive; to attempt to forcibly remount, call drive.mount(\"/content/drive\", force_remount=True).\n"
          ]
        }
      ]
    },
    {
      "cell_type": "code",
      "source": [
        "test_data = pd.read_csv('/content/test.csv')\n",
        "train_data = pd.read_csv('/content/train.csv')"
      ],
      "metadata": {
        "id": "tEcU-yJmVZwR"
      },
      "execution_count": null,
      "outputs": []
    },
    {
      "cell_type": "markdown",
      "source": [
        "## 2. Perform Data preprocessing"
      ],
      "metadata": {
        "id": "GlMLKDF_rvUM"
      }
    },
    {
      "cell_type": "code",
      "source": [
        "for column in train_data.columns:\n",
        "    unique_values = train_data[column].unique()\n",
        "    if column == \"Credit Score\" or column == \"id\":\n",
        "        continue\n",
        "    print(f\"Column: {column}\")\n",
        "    print(f\"Number of Unique Values: {len(unique_values)}\")\n",
        "    print(f\"Unique Values: {unique_values}\\n\")"
      ],
      "metadata": {
        "id": "0MJX8VBysFxR",
        "colab": {
          "base_uri": "https://localhost:8080/"
        },
        "outputId": "9395f7ee-381c-47a9-8e7a-af0d247281ad"
      },
      "execution_count": null,
      "outputs": [
        {
          "output_type": "stream",
          "name": "stdout",
          "text": [
            "Column: Age\n",
            "Number of Unique Values: 48\n",
            "Unique Values: [19. 39. 23. 21. 29. 41. 48. 44. 56. 25. 40. 18. 59. 34. 22. 46. 49. 42.\n",
            " 43. 64. 52. 37. 58. 50. 35. 61. 31. 54. 45. 30. 33. 28. 62. 53. 47. 27.\n",
            " nan 38. 63. 32. 36. 20. 51. 55. 57. 24. 60. 26.]\n",
            "\n",
            "Column: Gender\n",
            "Number of Unique Values: 2\n",
            "Unique Values: ['Female' 'Male']\n",
            "\n",
            "Column: Annual Income\n",
            "Number of Unique Values: 86116\n",
            "Unique Values: [ 10049.  31678.  25602. ...  42467. 123414.  53668.]\n",
            "\n",
            "Column: Marital Status\n",
            "Number of Unique Values: 4\n",
            "Unique Values: ['Married' 'Divorced' 'Single' nan]\n",
            "\n",
            "Column: Number of Dependents\n",
            "Number of Unique Values: 6\n",
            "Unique Values: [ 1.  3.  2.  0.  4. nan]\n",
            "\n",
            "Column: Education Level\n",
            "Number of Unique Values: 4\n",
            "Unique Values: [\"Bachelor's\" \"Master's\" 'High School' 'PhD']\n",
            "\n",
            "Column: Occupation\n",
            "Number of Unique Values: 4\n",
            "Unique Values: ['Self-Employed' nan 'Employed' 'Unemployed']\n",
            "\n",
            "Column: Health Score\n",
            "Number of Unique Values: 461355\n",
            "Unique Values: [22.59876067 15.56973099 47.17754929 ... 16.93986558 19.8350047\n",
            " 38.63840352]\n",
            "\n",
            "Column: Location\n",
            "Number of Unique Values: 3\n",
            "Unique Values: ['Urban' 'Rural' 'Suburban']\n",
            "\n",
            "Column: Policy Type\n",
            "Number of Unique Values: 3\n",
            "Unique Values: ['Premium' 'Comprehensive' 'Basic']\n",
            "\n",
            "Column: Previous Claims\n",
            "Number of Unique Values: 11\n",
            "Unique Values: [ 2.  1.  0. nan  3.  4.  5.  6.  7.  8.  9.]\n",
            "\n",
            "Column: Vehicle Age\n",
            "Number of Unique Values: 21\n",
            "Unique Values: [17. 12. 14.  0.  8.  4. 11. 10.  9.  6. 19.  3. 15. 16.  5.  7. 18.  1.\n",
            "  2. 13. nan]\n",
            "\n",
            "Column: Insurance Duration\n",
            "Number of Unique Values: 10\n",
            "Unique Values: [ 5.  2.  3.  1.  4.  6.  8.  9.  7. nan]\n",
            "\n",
            "Column: Policy Start Date\n",
            "Number of Unique Values: 3\n",
            "Unique Values: ['21:39.1' '21:39.2' '21:39.3']\n",
            "\n",
            "Column: Customer Feedback\n",
            "Number of Unique Values: 4\n",
            "Unique Values: ['Poor' 'Average' 'Good' nan]\n",
            "\n",
            "Column: Smoking Status\n",
            "Number of Unique Values: 2\n",
            "Unique Values: ['No' 'Yes']\n",
            "\n",
            "Column: Exercise Frequency\n",
            "Number of Unique Values: 4\n",
            "Unique Values: ['Weekly' 'Monthly' 'Daily' 'Rarely']\n",
            "\n",
            "Column: Property Type\n",
            "Number of Unique Values: 3\n",
            "Unique Values: ['House' 'Apartment' 'Condo']\n",
            "\n",
            "Column: Premium Amount\n",
            "Number of Unique Values: 4773\n",
            "Unique Values: [2869 1483  567 ... 3822 4953 4991]\n",
            "\n"
          ]
        }
      ]
    },
    {
      "cell_type": "code",
      "source": [
        "from sklearn.impute import SimpleImputer\n",
        "from sklearn.preprocessing import StandardScaler\n",
        "import numpy as np\n",
        "\n",
        "# Imputers and Scalers\n",
        "imputer_age = SimpleImputer(strategy='median')\n",
        "scaler_income = StandardScaler()\n",
        "imputer_health = SimpleImputer(strategy='most_frequent')\n",
        "imputer_dependents = SimpleImputer(strategy='median')\n",
        "imputer_income = SimpleImputer(strategy='median')\n",
        "\n",
        "# Apply to test_data\n",
        "test_data['Age'] = imputer_age.fit_transform(test_data[['Age']])\n",
        "test_data['Credit Score'] = imputer_age.fit_transform(test_data[['Credit Score']])  # Same imputer as age\n",
        "\n",
        "test_data['Health Score'] = imputer_health.fit_transform(test_data[['Health Score']])\n",
        "\n",
        "# Scale and impute Annual Income\n",
        "test_data['Annual Income'] = scaler_income.fit_transform(test_data[['Annual Income']])\n",
        "test_data['Annual Income'] = imputer_income.fit_transform(test_data[['Annual Income']])\n",
        "\n",
        "test_data['Previous Claims'].fillna(0, inplace=True)\n",
        "\n",
        "test_data['Number of Dependents'] = imputer_dependents.fit_transform(test_data[['Number of Dependents']])\n",
        "\n",
        "# Mappings\n",
        "marital_mapping = {\"Single\": 0, \"Married\": 1, \"Divorced\": 2, np.nan: 3}\n",
        "test_data['Marital Status'] = test_data['Marital Status'].map(marital_mapping)\n",
        "\n",
        "gender_mapping = {\"Female\": 0, \"Male\": 1}\n",
        "test_data['Gender'] = test_data['Gender'].map(gender_mapping)\n",
        "\n",
        "location_mapping = {\"Urban\": 0, \"Rural\": 1, \"Suburban\": 3}\n",
        "test_data['Location'] = test_data['Location'].map(location_mapping)\n",
        "\n",
        "policy_mapping = {\"Premium\": 0, \"Comprehensive\": 1, \"Basic\": 3}\n",
        "test_data['Policy Type'] = test_data['Policy Type'].map(policy_mapping)\n",
        "\n",
        "education_mapping = {\"High School\": 1, \"Bachelor's\": 2, \"Master's\": 3, \"PhD\": 4}\n",
        "test_data['Education Level'] = test_data['Education Level'].map(education_mapping)\n",
        "\n",
        "property_mapping = {\"House\": 0, \"Apartment\": 1, \"Condo\": 3}\n",
        "test_data['Property Type'] = test_data['Property Type'].map(property_mapping)\n",
        "\n",
        "feedback_mapping = {\"Poor\": 0, \"Fair\": 1, \"Good\": 2, \"Excellent\": 3, np.nan: 4}\n",
        "test_data['Customer Feedback'] = test_data['Customer Feedback'].map(feedback_mapping)\n",
        "\n",
        "smoking_mapping = {\"Yes\": 0, \"No\": 1}\n",
        "test_data['Smoking Status'] = test_data['Smoking Status'].map(smoking_mapping)\n",
        "\n",
        "exercise_mapping = {\"Weekly\": 0, \"Monthly\": 1, \"Daily\": 2, \"Rarely\": 3}\n",
        "test_data['Exercise Frequency'] = test_data['Exercise Frequency'].map(exercise_mapping)\n",
        "\n",
        "occupation_mapping = {\"Self-Employed\": 0, \"Unemployed\": 1, \"Employed\": 2, np.nan: 3}\n",
        "test_data['Occupation'] = test_data['Occupation'].map(occupation_mapping)\n"
      ],
      "metadata": {
        "id": "A8Bgn0DzETQL"
      },
      "execution_count": null,
      "outputs": []
    },
    {
      "cell_type": "code",
      "source": [
        "# Missing Age Values\n",
        "imputer_age = SimpleImputer(strategy='median')\n",
        "train_data['Age'] = imputer_age.fit_transform(train_data[['Age']])\n",
        "scaler_credit = SimpleImputer(strategy='median')\n",
        "train_data['Credit Score'] = scaler_credit.fit_transform(train_data[['Credit Score']])\n",
        "\n",
        "imputer_health = SimpleImputer(strategy='most_frequent')\n",
        "train_data['Health Score'] = imputer_health.fit_transform(train_data[['Health Score']])\n",
        "\n",
        "# Missing Annual Income\n",
        "# Scale Annual Income\n",
        "scaler_income = StandardScaler()\n",
        "train_data['Annual Income'] = scaler_income.fit_transform(train_data[['Annual Income']])\n",
        "imputer_income = SimpleImputer(strategy='median')\n",
        "train_data['Annual Income'] = imputer_income.fit_transform(train_data[['Annual Income']])\n",
        "\n",
        "train_data['Previous Claims'].fillna(0, inplace=True)\n",
        "\n",
        "# Missing Dependents\n",
        "imputer_dependents = SimpleImputer(strategy='median')\n",
        "train_data['Number of Dependents'] = imputer_dependents.fit_transform(train_data[['Number of Dependents']])\n",
        "\n",
        "# Mapping\n",
        "marital_mapping = {\"Single\" : 0, \"Married\" : 1, \"Divorced\" : 2, np.nan : 3}\n",
        "train_data['Marital Status'] = train_data['Marital Status'].map(marital_mapping)\n",
        "\n",
        "gender_mapping = {\"Female\" : 0, \"Male\" : 1}\n",
        "train_data['Gender'] = train_data['Gender'].map(gender_mapping)\n",
        "\n",
        "location_mapping ={\"Urban\": 0, \"Rural\" : 1, \"Suburban\" : 3}\n",
        "train_data['Location'] = train_data['Location'].map(location_mapping)\n",
        "\n",
        "policy_mapping ={\"Premium\": 0, \"Comprehensive\" : 1, \"Basic\" : 3}\n",
        "train_data['Policy Type'] = train_data['Policy Type'].map(policy_mapping)\n",
        "\n",
        "education_mapping = {\"High School\": 1, \"Bachelor's\": 2, \"Master's\": 3, \"PhD\": 4}\n",
        "train_data['Education Level'] = train_data['Education Level'].map(education_mapping)\n",
        "\n",
        "property_mapping ={\"House\": 0, \"Apartment\" : 1, \"Condo\" : 3}\n",
        "train_data['Property Type'] = train_data['Property Type'].map(property_mapping)\n",
        "\n",
        "feedback_mapping ={\"Poor\": 0, \"Fair\" : 1, \"Good\" : 2, \"Excellent\" : 3, np.nan : 4}\n",
        "train_data['Customer Feedback'] = train_data['Customer Feedback'].map(feedback_mapping)\n",
        "\n",
        "smoking_mapping = {\"Yes\" : 0, \"No\" : 1}\n",
        "train_data['Smoking Status'] = train_data['Smoking Status'].map(smoking_mapping)\n",
        "\n",
        "exercise_mapping = {\"Weekly\" : 0, \"Monthly\" : 1, \"Daily\" : 2, \"Rarely\" : 3}\n",
        "train_data['Exercise Frequency'] = train_data['Exercise Frequency'].map(exercise_mapping)\n",
        "\n",
        "occupation_mapping = {\"Self-Employed\" : 0, \"Unemployed\" : 1, \"Employed\" : 2, np.nan :3}\n",
        "train_data['Occupation'] = train_data['Occupation'].map(occupation_mapping)"
      ],
      "metadata": {
        "id": "tRWU5qoU4gRV"
      },
      "execution_count": null,
      "outputs": []
    },
    {
      "cell_type": "code",
      "source": [
        "train_data['Customer Feedback']"
      ],
      "metadata": {
        "colab": {
          "base_uri": "https://localhost:8080/",
          "height": 458
        },
        "id": "3rRqmTmE_G_H",
        "outputId": "d284b47a-1fa7-40bb-e1e9-ae16a640a527"
      },
      "execution_count": null,
      "outputs": [
        {
          "output_type": "execute_result",
          "data": {
            "text/plain": [
              "0          0.0\n",
              "1          NaN\n",
              "2          2.0\n",
              "3          0.0\n",
              "4          0.0\n",
              "          ... \n",
              "1048570    NaN\n",
              "1048571    2.0\n",
              "1048572    2.0\n",
              "1048573    4.0\n",
              "1048574    0.0\n",
              "Name: Customer Feedback, Length: 1048575, dtype: float64"
            ],
            "text/html": [
              "<div>\n",
              "<style scoped>\n",
              "    .dataframe tbody tr th:only-of-type {\n",
              "        vertical-align: middle;\n",
              "    }\n",
              "\n",
              "    .dataframe tbody tr th {\n",
              "        vertical-align: top;\n",
              "    }\n",
              "\n",
              "    .dataframe thead th {\n",
              "        text-align: right;\n",
              "    }\n",
              "</style>\n",
              "<table border=\"1\" class=\"dataframe\">\n",
              "  <thead>\n",
              "    <tr style=\"text-align: right;\">\n",
              "      <th></th>\n",
              "      <th>Customer Feedback</th>\n",
              "    </tr>\n",
              "  </thead>\n",
              "  <tbody>\n",
              "    <tr>\n",
              "      <th>0</th>\n",
              "      <td>0.0</td>\n",
              "    </tr>\n",
              "    <tr>\n",
              "      <th>1</th>\n",
              "      <td>NaN</td>\n",
              "    </tr>\n",
              "    <tr>\n",
              "      <th>2</th>\n",
              "      <td>2.0</td>\n",
              "    </tr>\n",
              "    <tr>\n",
              "      <th>3</th>\n",
              "      <td>0.0</td>\n",
              "    </tr>\n",
              "    <tr>\n",
              "      <th>4</th>\n",
              "      <td>0.0</td>\n",
              "    </tr>\n",
              "    <tr>\n",
              "      <th>...</th>\n",
              "      <td>...</td>\n",
              "    </tr>\n",
              "    <tr>\n",
              "      <th>1048570</th>\n",
              "      <td>NaN</td>\n",
              "    </tr>\n",
              "    <tr>\n",
              "      <th>1048571</th>\n",
              "      <td>2.0</td>\n",
              "    </tr>\n",
              "    <tr>\n",
              "      <th>1048572</th>\n",
              "      <td>2.0</td>\n",
              "    </tr>\n",
              "    <tr>\n",
              "      <th>1048573</th>\n",
              "      <td>4.0</td>\n",
              "    </tr>\n",
              "    <tr>\n",
              "      <th>1048574</th>\n",
              "      <td>0.0</td>\n",
              "    </tr>\n",
              "  </tbody>\n",
              "</table>\n",
              "<p>1048575 rows × 1 columns</p>\n",
              "</div><br><label><b>dtype:</b> float64</label>"
            ]
          },
          "metadata": {},
          "execution_count": 117
        }
      ]
    },
    {
      "cell_type": "code",
      "source": [
        "train_data.info()"
      ],
      "metadata": {
        "colab": {
          "base_uri": "https://localhost:8080/"
        },
        "id": "G4G74dw74rrj",
        "outputId": "bb4dcfd5-59b9-43bf-d9d2-4726fe0552cf"
      },
      "execution_count": null,
      "outputs": [
        {
          "output_type": "stream",
          "name": "stdout",
          "text": [
            "<class 'pandas.core.frame.DataFrame'>\n",
            "RangeIndex: 1048575 entries, 0 to 1048574\n",
            "Data columns (total 21 columns):\n",
            " #   Column                Non-Null Count    Dtype  \n",
            "---  ------                --------------    -----  \n",
            " 0   id                    1048575 non-null  int64  \n",
            " 1   Age                   1048575 non-null  float64\n",
            " 2   Gender                1048575 non-null  int64  \n",
            " 3   Annual Income         1048575 non-null  float64\n",
            " 4   Marital Status        1048575 non-null  int64  \n",
            " 5   Number of Dependents  1048575 non-null  float64\n",
            " 6   Education Level       1048575 non-null  int64  \n",
            " 7   Occupation            1048575 non-null  int64  \n",
            " 8   Health Score          1048575 non-null  float64\n",
            " 9   Location              1048575 non-null  int64  \n",
            " 10  Policy Type           1048575 non-null  int64  \n",
            " 11  Previous Claims       1048575 non-null  float64\n",
            " 12  Vehicle Age           1048570 non-null  float64\n",
            " 13  Credit Score          1048575 non-null  float64\n",
            " 14  Insurance Duration    1048574 non-null  float64\n",
            " 15  Policy Start Date     1048575 non-null  object \n",
            " 16  Customer Feedback     718203 non-null   float64\n",
            " 17  Smoking Status        1048575 non-null  int64  \n",
            " 18  Exercise Frequency    1048575 non-null  int64  \n",
            " 19  Property Type         1048575 non-null  int64  \n",
            " 20  Premium Amount        1048575 non-null  int64  \n",
            "dtypes: float64(9), int64(11), object(1)\n",
            "memory usage: 168.0+ MB\n"
          ]
        }
      ]
    },
    {
      "cell_type": "code",
      "source": [
        "test_data.info()"
      ],
      "metadata": {
        "colab": {
          "base_uri": "https://localhost:8080/"
        },
        "id": "HQhbnuhY8ksx",
        "outputId": "c7c72a1e-bd08-4843-a67d-fcf01c76e5ad"
      },
      "execution_count": null,
      "outputs": [
        {
          "output_type": "stream",
          "name": "stdout",
          "text": [
            "<class 'pandas.core.frame.DataFrame'>\n",
            "RangeIndex: 800000 entries, 0 to 799999\n",
            "Data columns (total 20 columns):\n",
            " #   Column                Non-Null Count   Dtype  \n",
            "---  ------                --------------   -----  \n",
            " 0   id                    800000 non-null  int64  \n",
            " 1   Age                   800000 non-null  float64\n",
            " 2   Gender                800000 non-null  int64  \n",
            " 3   Annual Income         800000 non-null  float64\n",
            " 4   Marital Status        800000 non-null  int64  \n",
            " 5   Number of Dependents  800000 non-null  float64\n",
            " 6   Education Level       800000 non-null  int64  \n",
            " 7   Occupation            800000 non-null  int64  \n",
            " 8   Health Score          800000 non-null  float64\n",
            " 9   Location              800000 non-null  int64  \n",
            " 10  Policy Type           800000 non-null  int64  \n",
            " 11  Previous Claims       800000 non-null  float64\n",
            " 12  Vehicle Age           799997 non-null  float64\n",
            " 13  Credit Score          800000 non-null  float64\n",
            " 14  Insurance Duration    799998 non-null  float64\n",
            " 15  Policy Start Date     800000 non-null  object \n",
            " 16  Customer Feedback     548783 non-null  float64\n",
            " 17  Smoking Status        800000 non-null  int64  \n",
            " 18  Exercise Frequency    800000 non-null  int64  \n",
            " 19  Property Type         800000 non-null  int64  \n",
            "dtypes: float64(9), int64(10), object(1)\n",
            "memory usage: 122.1+ MB\n"
          ]
        }
      ]
    },
    {
      "cell_type": "markdown",
      "source": [
        "## 3. Create a Pipeline"
      ],
      "metadata": {
        "id": "u-z7RFsxWLHM"
      }
    },
    {
      "cell_type": "code",
      "source": [
        "train_data = train_data.drop('id', axis= 1)\n",
        "train_data = train_data.drop('Policy Start Date', axis= 1)\n",
        "train_data = train_data.drop('Customer Feedback', axis= 1)"
      ],
      "metadata": {
        "id": "PuJFYWuSWNvB"
      },
      "execution_count": null,
      "outputs": []
    },
    {
      "cell_type": "code",
      "source": [
        "test_data = test_data.drop('id', axis= 1)\n",
        "test_data = test_data.drop('Policy Start Date', axis= 1)\n",
        "test_data = test_data.drop('Customer Feedback', axis= 1)"
      ],
      "metadata": {
        "id": "PphTBhGfDtjM"
      },
      "execution_count": null,
      "outputs": []
    },
    {
      "cell_type": "code",
      "source": [
        "train_data =  train_data.drop('Vehicle Age', axis= 1)"
      ],
      "metadata": {
        "id": "6E8NIu56BA0w"
      },
      "execution_count": null,
      "outputs": []
    },
    {
      "cell_type": "code",
      "source": [
        "test_data =  test_data.drop('Vehicle Age', axis= 1)"
      ],
      "metadata": {
        "id": "wuCJW6twDwUW"
      },
      "execution_count": null,
      "outputs": []
    },
    {
      "cell_type": "code",
      "source": [
        "train_data.fillna(0, inplace=True)"
      ],
      "metadata": {
        "id": "2qfD0EERBEsW"
      },
      "execution_count": null,
      "outputs": []
    },
    {
      "cell_type": "code",
      "source": [
        "test_data.fillna(0, inplace=True)"
      ],
      "metadata": {
        "id": "yXOUzUofG2Pi"
      },
      "execution_count": null,
      "outputs": []
    },
    {
      "cell_type": "code",
      "source": [
        "test_data.info()"
      ],
      "metadata": {
        "colab": {
          "base_uri": "https://localhost:8080/"
        },
        "id": "b5zSrL2BD4qD",
        "outputId": "30b8c965-f84d-4803-adf9-8ebdc3978d7d"
      },
      "execution_count": null,
      "outputs": [
        {
          "output_type": "stream",
          "name": "stdout",
          "text": [
            "<class 'pandas.core.frame.DataFrame'>\n",
            "RangeIndex: 800000 entries, 0 to 799999\n",
            "Data columns (total 16 columns):\n",
            " #   Column                Non-Null Count   Dtype  \n",
            "---  ------                --------------   -----  \n",
            " 0   Age                   800000 non-null  float64\n",
            " 1   Gender                800000 non-null  int64  \n",
            " 2   Annual Income         800000 non-null  float64\n",
            " 3   Marital Status        800000 non-null  int64  \n",
            " 4   Number of Dependents  800000 non-null  float64\n",
            " 5   Education Level       800000 non-null  int64  \n",
            " 6   Occupation            800000 non-null  int64  \n",
            " 7   Health Score          800000 non-null  float64\n",
            " 8   Location              800000 non-null  int64  \n",
            " 9   Policy Type           800000 non-null  int64  \n",
            " 10  Previous Claims       800000 non-null  float64\n",
            " 11  Credit Score          800000 non-null  float64\n",
            " 12  Insurance Duration    800000 non-null  float64\n",
            " 13  Smoking Status        800000 non-null  int64  \n",
            " 14  Exercise Frequency    800000 non-null  int64  \n",
            " 15  Property Type         800000 non-null  int64  \n",
            "dtypes: float64(7), int64(9)\n",
            "memory usage: 97.7 MB\n"
          ]
        }
      ]
    },
    {
      "cell_type": "code",
      "source": [
        "train_data.info()"
      ],
      "metadata": {
        "colab": {
          "base_uri": "https://localhost:8080/"
        },
        "id": "bZGcbTHLAoEW",
        "outputId": "508555be-99b3-4768-d758-1df332f7eaed"
      },
      "execution_count": null,
      "outputs": [
        {
          "output_type": "stream",
          "name": "stdout",
          "text": [
            "<class 'pandas.core.frame.DataFrame'>\n",
            "RangeIndex: 1048575 entries, 0 to 1048574\n",
            "Data columns (total 17 columns):\n",
            " #   Column                Non-Null Count    Dtype  \n",
            "---  ------                --------------    -----  \n",
            " 0   Age                   1048575 non-null  float64\n",
            " 1   Gender                1048575 non-null  int64  \n",
            " 2   Annual Income         1048575 non-null  float64\n",
            " 3   Marital Status        1048575 non-null  int64  \n",
            " 4   Number of Dependents  1048575 non-null  float64\n",
            " 5   Education Level       1048575 non-null  int64  \n",
            " 6   Occupation            1048575 non-null  int64  \n",
            " 7   Health Score          1048575 non-null  float64\n",
            " 8   Location              1048575 non-null  int64  \n",
            " 9   Policy Type           1048575 non-null  int64  \n",
            " 10  Previous Claims       1048575 non-null  float64\n",
            " 11  Credit Score          1048575 non-null  float64\n",
            " 12  Insurance Duration    1048575 non-null  float64\n",
            " 13  Smoking Status        1048575 non-null  int64  \n",
            " 14  Exercise Frequency    1048575 non-null  int64  \n",
            " 15  Property Type         1048575 non-null  int64  \n",
            " 16  Premium Amount        1048575 non-null  int64  \n",
            "dtypes: float64(7), int64(10)\n",
            "memory usage: 136.0 MB\n"
          ]
        }
      ]
    },
    {
      "cell_type": "code",
      "source": [
        "X, y = train_data.drop('Premium Amount', axis=1), train_data[['Premium Amount']]"
      ],
      "metadata": {
        "id": "UPiTvC0JBWXO"
      },
      "execution_count": null,
      "outputs": []
    },
    {
      "cell_type": "code",
      "source": [
        "X_train, X_test, y_train, y_test = train_test_split(X, y, random_state=1)"
      ],
      "metadata": {
        "id": "UWYhC--kB469"
      },
      "execution_count": null,
      "outputs": []
    },
    {
      "cell_type": "markdown",
      "source": [
        "## 4. Train the Model"
      ],
      "metadata": {
        "id": "8n-ScOLqze60"
      }
    },
    {
      "cell_type": "code",
      "source": [
        "dtrain_reg = xgb.DMatrix(X_train, y_train, enable_categorical=True)\n",
        "dtest_reg = xgb.DMatrix(X_test, y_test, enable_categorical=True)"
      ],
      "metadata": {
        "id": "zRmZyUk_B1yV"
      },
      "execution_count": null,
      "outputs": []
    },
    {
      "cell_type": "code",
      "source": [
        "params = {\"objective\": \"reg:squarederror\", \"tree_method\": \"gpu_hist\"}"
      ],
      "metadata": {
        "id": "fqLNJkoHzfL4"
      },
      "execution_count": null,
      "outputs": []
    },
    {
      "cell_type": "code",
      "source": [
        "n = 100\n",
        "model = xgb.train(\n",
        "   params=params,\n",
        "   dtrain=dtrain_reg,\n",
        "   num_boost_round=n,\n",
        ")"
      ],
      "metadata": {
        "id": "P915D43NBPlV"
      },
      "execution_count": null,
      "outputs": []
    },
    {
      "cell_type": "code",
      "source": [
        "preds = model.predict(dtest_reg)"
      ],
      "metadata": {
        "id": "eYAXGhdfB871"
      },
      "execution_count": null,
      "outputs": []
    },
    {
      "cell_type": "markdown",
      "source": [
        "## 5. Evaluate the Model"
      ],
      "metadata": {
        "id": "IkAsAi29WiDq"
      }
    },
    {
      "cell_type": "code",
      "source": [
        "import numpy as np\n",
        "import xgboost as xgb\n",
        "from sklearn.model_selection import train_test_split\n",
        "from sklearn.metrics import mean_squared_error, root_mean_squared_log_error\n",
        "\n",
        "# ... (your existing code for data loading and preprocessing) ...\n",
        "\n",
        "X, y = train_data.drop('Premium Amount', axis=1), train_data[['Premium Amount']]\n",
        "X_train, X_test, y_train, y_test = train_test_split(X, y, random_state=1)\n",
        "\n",
        "# ... (your existing code for XGBoost model training) ...\n",
        "\n",
        "# Modify prediction to ensure positive values\n",
        "preds = model.predict(dtest_reg)\n",
        "preds = np.clip(preds, a_min=0, a_max=None)  # Clip negative values to 0\n",
        "\n",
        "# Calculate RMSLE\n",
        "rmse = root_mean_squared_log_error(y_test, preds)\n",
        "\n",
        "print(f\"RMSLE of the base model: {rmse:.3f}\")"
      ],
      "metadata": {
        "id": "8L0zJYBfWiVX",
        "colab": {
          "base_uri": "https://localhost:8080/"
        },
        "outputId": "8d938000-4550-4699-8d5f-d9e52c164bf9"
      },
      "execution_count": null,
      "outputs": [
        {
          "output_type": "stream",
          "name": "stdout",
          "text": [
            "RMSLE of the base model: 1.148\n"
          ]
        }
      ]
    },
    {
      "cell_type": "code",
      "source": [
        "params = {\"objective\": \"reg:squarederror\", \"tree_method\": \"gpu_hist\"}\n",
        "n = 100"
      ],
      "metadata": {
        "id": "oDED6nhSCBH9"
      },
      "execution_count": null,
      "outputs": []
    },
    {
      "cell_type": "code",
      "source": [
        "evals = [(dtrain_reg, \"train\"), (dtest_reg, \"validation\")]\n",
        "\n",
        "model = xgb.train(\n",
        "   params=params,\n",
        "   dtrain=dtrain_reg,\n",
        "   num_boost_round=n,\n",
        "   evals=evals,\n",
        ")"
      ],
      "metadata": {
        "colab": {
          "base_uri": "https://localhost:8080/"
        },
        "collapsed": true,
        "id": "4R2ijO6jCDkP",
        "outputId": "c8ff3c6b-9aab-47bf-fb1e-5f4cbb7e7d57"
      },
      "execution_count": null,
      "outputs": [
        {
          "output_type": "stream",
          "name": "stdout",
          "text": [
            "[0]\ttrain-rmse:858.78342\tvalidation-rmse:857.37656\n",
            "[1]\ttrain-rmse:854.10207\tvalidation-rmse:852.87392\n",
            "[2]\ttrain-rmse:852.36263\tvalidation-rmse:851.28905\n",
            "[3]\ttrain-rmse:851.15067\tvalidation-rmse:850.22171\n",
            "[4]\ttrain-rmse:850.53138\tvalidation-rmse:849.72942\n",
            "[5]\ttrain-rmse:849.77757\tvalidation-rmse:849.13195\n",
            "[6]\ttrain-rmse:849.38082\tvalidation-rmse:848.83559\n",
            "[7]\ttrain-rmse:849.00631\tvalidation-rmse:848.61534\n",
            "[8]\ttrain-rmse:848.79955\tvalidation-rmse:848.53376\n",
            "[9]\ttrain-rmse:848.47648\tvalidation-rmse:848.33751\n",
            "[10]\ttrain-rmse:848.04713\tvalidation-rmse:847.97669\n",
            "[11]\ttrain-rmse:847.48044\tvalidation-rmse:847.44633\n",
            "[12]\ttrain-rmse:847.33013\tvalidation-rmse:847.42196\n",
            "[13]\ttrain-rmse:847.18442\tvalidation-rmse:847.42166\n",
            "[14]\ttrain-rmse:847.02192\tvalidation-rmse:847.39068\n",
            "[15]\ttrain-rmse:846.90500\tvalidation-rmse:847.38045\n",
            "[16]\ttrain-rmse:846.74499\tvalidation-rmse:847.36410\n",
            "[17]\ttrain-rmse:846.61913\tvalidation-rmse:847.34539\n",
            "[18]\ttrain-rmse:846.49625\tvalidation-rmse:847.32200\n",
            "[19]\ttrain-rmse:846.31231\tvalidation-rmse:847.24588\n",
            "[20]\ttrain-rmse:846.18846\tvalidation-rmse:847.23857\n",
            "[21]\ttrain-rmse:845.62746\tvalidation-rmse:846.75199\n",
            "[22]\ttrain-rmse:845.51177\tvalidation-rmse:846.77719\n",
            "[23]\ttrain-rmse:845.38764\tvalidation-rmse:846.75873\n",
            "[24]\ttrain-rmse:845.25093\tvalidation-rmse:846.71654\n",
            "[25]\ttrain-rmse:844.93371\tvalidation-rmse:846.49022\n",
            "[26]\ttrain-rmse:844.83860\tvalidation-rmse:846.47735\n",
            "[27]\ttrain-rmse:844.79249\tvalidation-rmse:846.48418\n",
            "[28]\ttrain-rmse:844.69193\tvalidation-rmse:846.48102\n",
            "[29]\ttrain-rmse:844.53670\tvalidation-rmse:846.46337\n",
            "[30]\ttrain-rmse:844.42406\tvalidation-rmse:846.43605\n",
            "[31]\ttrain-rmse:844.36868\tvalidation-rmse:846.45676\n",
            "[32]\ttrain-rmse:844.26312\tvalidation-rmse:846.45167\n",
            "[33]\ttrain-rmse:844.17924\tvalidation-rmse:846.44813\n",
            "[34]\ttrain-rmse:844.05418\tvalidation-rmse:846.45247\n",
            "[35]\ttrain-rmse:844.00131\tvalidation-rmse:846.45652\n",
            "[36]\ttrain-rmse:843.89566\tvalidation-rmse:846.46388\n",
            "[37]\ttrain-rmse:843.77496\tvalidation-rmse:846.49072\n",
            "[38]\ttrain-rmse:843.65733\tvalidation-rmse:846.49477\n",
            "[39]\ttrain-rmse:843.55026\tvalidation-rmse:846.47848\n",
            "[40]\ttrain-rmse:843.44603\tvalidation-rmse:846.49906\n",
            "[41]\ttrain-rmse:843.38211\tvalidation-rmse:846.50037\n",
            "[42]\ttrain-rmse:843.31351\tvalidation-rmse:846.48347\n",
            "[43]\ttrain-rmse:843.22517\tvalidation-rmse:846.48921\n",
            "[44]\ttrain-rmse:843.13086\tvalidation-rmse:846.50339\n",
            "[45]\ttrain-rmse:843.01816\tvalidation-rmse:846.52532\n",
            "[46]\ttrain-rmse:842.92846\tvalidation-rmse:846.53148\n",
            "[47]\ttrain-rmse:842.85077\tvalidation-rmse:846.56494\n",
            "[48]\ttrain-rmse:842.73275\tvalidation-rmse:846.57515\n",
            "[49]\ttrain-rmse:842.64456\tvalidation-rmse:846.56609\n",
            "[50]\ttrain-rmse:842.56216\tvalidation-rmse:846.53453\n",
            "[51]\ttrain-rmse:842.47110\tvalidation-rmse:846.53277\n",
            "[52]\ttrain-rmse:842.37760\tvalidation-rmse:846.55112\n",
            "[53]\ttrain-rmse:842.26054\tvalidation-rmse:846.55419\n",
            "[54]\ttrain-rmse:842.15507\tvalidation-rmse:846.53879\n",
            "[55]\ttrain-rmse:842.05856\tvalidation-rmse:846.56220\n",
            "[56]\ttrain-rmse:841.93133\tvalidation-rmse:846.57603\n",
            "[57]\ttrain-rmse:841.82989\tvalidation-rmse:846.59831\n",
            "[58]\ttrain-rmse:841.71897\tvalidation-rmse:846.62721\n",
            "[59]\ttrain-rmse:841.57425\tvalidation-rmse:846.59826\n",
            "[60]\ttrain-rmse:841.47820\tvalidation-rmse:846.61052\n",
            "[61]\ttrain-rmse:841.36647\tvalidation-rmse:846.61465\n",
            "[62]\ttrain-rmse:841.25527\tvalidation-rmse:846.59286\n",
            "[63]\ttrain-rmse:841.15164\tvalidation-rmse:846.60651\n",
            "[64]\ttrain-rmse:841.08655\tvalidation-rmse:846.61796\n",
            "[65]\ttrain-rmse:840.97300\tvalidation-rmse:846.66652\n",
            "[66]\ttrain-rmse:840.86118\tvalidation-rmse:846.68335\n",
            "[67]\ttrain-rmse:840.77148\tvalidation-rmse:846.69181\n",
            "[68]\ttrain-rmse:840.68525\tvalidation-rmse:846.72273\n",
            "[69]\ttrain-rmse:840.60373\tvalidation-rmse:846.72675\n",
            "[70]\ttrain-rmse:840.49495\tvalidation-rmse:846.74802\n",
            "[71]\ttrain-rmse:840.40520\tvalidation-rmse:846.76161\n",
            "[72]\ttrain-rmse:840.34942\tvalidation-rmse:846.76687\n",
            "[73]\ttrain-rmse:840.24966\tvalidation-rmse:846.77989\n",
            "[74]\ttrain-rmse:840.18203\tvalidation-rmse:846.76449\n",
            "[75]\ttrain-rmse:840.05569\tvalidation-rmse:846.80985\n",
            "[76]\ttrain-rmse:839.94283\tvalidation-rmse:846.80860\n",
            "[77]\ttrain-rmse:839.82456\tvalidation-rmse:846.76896\n",
            "[78]\ttrain-rmse:839.72332\tvalidation-rmse:846.76416\n",
            "[79]\ttrain-rmse:839.63679\tvalidation-rmse:846.76439\n",
            "[80]\ttrain-rmse:839.52249\tvalidation-rmse:846.74576\n",
            "[81]\ttrain-rmse:839.41950\tvalidation-rmse:846.75288\n",
            "[82]\ttrain-rmse:839.31961\tvalidation-rmse:846.75223\n",
            "[83]\ttrain-rmse:839.25133\tvalidation-rmse:846.75771\n",
            "[84]\ttrain-rmse:839.17365\tvalidation-rmse:846.77173\n",
            "[85]\ttrain-rmse:839.07954\tvalidation-rmse:846.77132\n",
            "[86]\ttrain-rmse:838.99778\tvalidation-rmse:846.79512\n",
            "[87]\ttrain-rmse:838.89939\tvalidation-rmse:846.80557\n",
            "[88]\ttrain-rmse:838.79097\tvalidation-rmse:846.80462\n",
            "[89]\ttrain-rmse:838.69745\tvalidation-rmse:846.80902\n",
            "[90]\ttrain-rmse:838.60547\tvalidation-rmse:846.81340\n",
            "[91]\ttrain-rmse:838.52654\tvalidation-rmse:846.81875\n",
            "[92]\ttrain-rmse:838.40883\tvalidation-rmse:846.77588\n",
            "[93]\ttrain-rmse:838.30258\tvalidation-rmse:846.78301\n",
            "[94]\ttrain-rmse:838.20201\tvalidation-rmse:846.81490\n",
            "[95]\ttrain-rmse:838.12717\tvalidation-rmse:846.82395\n",
            "[96]\ttrain-rmse:838.04156\tvalidation-rmse:846.82154\n",
            "[97]\ttrain-rmse:837.93885\tvalidation-rmse:846.84870\n",
            "[98]\ttrain-rmse:837.83851\tvalidation-rmse:846.86213\n",
            "[99]\ttrain-rmse:837.73162\tvalidation-rmse:846.83123\n"
          ]
        }
      ]
    },
    {
      "cell_type": "markdown",
      "source": [
        "## Generate Submission File\n",
        "\n",
        "Choose the model that has the best performance to generate a submission file."
      ],
      "metadata": {
        "id": "a6UAAMyepmHi"
      }
    },
    {
      "cell_type": "code",
      "source": [
        "sf = pd.read_csv('/content/sample.csv')"
      ],
      "metadata": {
        "id": "4pe-GF-K-jsP"
      },
      "execution_count": null,
      "outputs": []
    },
    {
      "cell_type": "code",
      "source": [
        "sf.info()"
      ],
      "metadata": {
        "colab": {
          "base_uri": "https://localhost:8080/"
        },
        "id": "SynDn4bRCPeE",
        "outputId": "12117618-a32d-45fa-9a96-6f004f876edf"
      },
      "execution_count": null,
      "outputs": [
        {
          "output_type": "stream",
          "name": "stdout",
          "text": [
            "<class 'pandas.core.frame.DataFrame'>\n",
            "RangeIndex: 800000 entries, 0 to 799999\n",
            "Data columns (total 2 columns):\n",
            " #   Column          Non-Null Count   Dtype  \n",
            "---  ------          --------------   -----  \n",
            " 0   id              800000 non-null  int64  \n",
            " 1   Premium Amount  800000 non-null  float64\n",
            "dtypes: float64(1), int64(1)\n",
            "memory usage: 12.2 MB\n"
          ]
        }
      ]
    },
    {
      "cell_type": "code",
      "source": [
        "id = sf['id']  # Use the index of test_data for id\n",
        "\n",
        "y_pred = model.predict(xgb.DMatrix(test_data))\n",
        "\n",
        "# Create a submission DataFrame\n",
        "submission_df = pd.DataFrame({\n",
        "    'id': id,\n",
        "    'Premium Amount': y_pred\n",
        "})\n",
        "\n",
        "# Save the submission DataFrame to a CSV file\n",
        "submission_df.to_csv('submission_file.csv', index=False)\n",
        "print(\"Submission file created: submission_file.csv\")"
      ],
      "metadata": {
        "id": "HrelEEFJpjzI",
        "colab": {
          "base_uri": "https://localhost:8080/"
        },
        "outputId": "1794830e-3fde-4c32-936f-b108b1d82eee"
      },
      "execution_count": null,
      "outputs": [
        {
          "output_type": "stream",
          "name": "stdout",
          "text": [
            "Submission file created: submission_file.csv\n"
          ]
        }
      ]
    },
    {
      "cell_type": "code",
      "source": [
        "submission_df.info()"
      ],
      "metadata": {
        "colab": {
          "base_uri": "https://localhost:8080/"
        },
        "id": "Z_LcslOsFDNa",
        "outputId": "4f464803-9c47-4ca2-f0ea-e1411189dca5"
      },
      "execution_count": null,
      "outputs": [
        {
          "output_type": "stream",
          "name": "stdout",
          "text": [
            "<class 'pandas.core.frame.DataFrame'>\n",
            "RangeIndex: 800000 entries, 0 to 799999\n",
            "Data columns (total 2 columns):\n",
            " #   Column          Non-Null Count   Dtype  \n",
            "---  ------          --------------   -----  \n",
            " 0   id              800000 non-null  int64  \n",
            " 1   Premium Amount  800000 non-null  float32\n",
            "dtypes: float32(1), int64(1)\n",
            "memory usage: 9.2 MB\n"
          ]
        }
      ]
    }
  ],
  "metadata": {
    "colab": {
      "provenance": [],
      "gpuType": "T4"
    },
    "kernelspec": {
      "display_name": "Python 3",
      "name": "python3"
    },
    "language_info": {
      "name": "python",
      "version": "3.12.4"
    },
    "accelerator": "GPU"
  },
  "nbformat": 4,
  "nbformat_minor": 0
}